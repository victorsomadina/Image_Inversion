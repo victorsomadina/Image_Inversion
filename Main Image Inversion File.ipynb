{
 "cells": [
  {
   "cell_type": "code",
   "execution_count": 1,
   "id": "344abc98",
   "metadata": {},
   "outputs": [],
   "source": [
    "#import necessary openCV library\n",
    "import cv2\n",
    "from PIL import Image, ImageOps"
   ]
  },
  {
   "cell_type": "code",
   "execution_count": 2,
   "id": "efc76881",
   "metadata": {},
   "outputs": [],
   "source": [
    "class ImageProcessor:\n",
    "    def __init__(self):   # initialize attribute \n",
    "        self.image = None\n",
    "        \n",
    "    def read_image(self,file_path): # to create a function that reads an image using OpenCV library\n",
    "        self.image = cv2.imread(file_path)\n",
    "        if self.image is not None: \n",
    "            window_name = 'Image' # Give the image_window a name. the imshow() function takes 2 positional argument, winname and the image\n",
    "            cv2.imshow(window_name, self.image)\n",
    "            cv2.waitKey(0)\n",
    "            cv2.destroyAllWindows()\n",
    "        #else:\n",
    "            #print('Image read failed')\n",
    "            \n",
    "    def invert_colors(self): # create an invert function to invert the given image \n",
    "        if self.image is not None:\n",
    "            inverted_image = cv2.bitwise_not(self.image)\n",
    "            name_window = 'Inverted_Image'\n",
    "            cv2.imshow(name_window, inverted_image)\n",
    "            cv2.waitKey(0)\n",
    "            #cv2.destroyAllWindows()\n",
    "            \n",
    "    def save_image(self, output_path): # To save the file path\n",
    "        inverted_image = cv2.bitwise_not(self.image)\n",
    "        if self.image is not None:\n",
    "            cv2.imwrite(output_path, inverted_image)\n",
    "        else:\n",
    "            print('No Image')\n",
    "        "
   ]
  },
  {
   "cell_type": "code",
   "execution_count": 3,
   "id": "620b3027",
   "metadata": {},
   "outputs": [],
   "source": [
    "#processor = ImageProcessor()\n",
    "\n",
    "#pics = processor.read_image(r'C:\\Users\\hp\\Pictures\\my photo.jpg')"
   ]
  },
  {
   "cell_type": "code",
   "execution_count": 4,
   "id": "4da14d11",
   "metadata": {},
   "outputs": [],
   "source": [
    "processor = ImageProcessor()"
   ]
  },
  {
   "cell_type": "code",
   "execution_count": 5,
   "id": "cc7d970f",
   "metadata": {},
   "outputs": [],
   "source": [
    "processor.read_image(r'C:\\Users\\hp\\Pictures\\heart2.png') # read a random image using the function\n",
    "\n",
    "processor.invert_colors() # invert the color of the random image \n",
    "\n",
    "processor.save_image('Inverted_image.jpg') # save the image as inverted_image.jpg"
   ]
  },
  {
   "cell_type": "code",
   "execution_count": 6,
   "id": "50f7fc95",
   "metadata": {},
   "outputs": [],
   "source": [
    "processor.read_image(r'Inverted_image.jpg')"
   ]
  },
  {
   "cell_type": "code",
   "execution_count": 21,
   "id": "a2975678",
   "metadata": {},
   "outputs": [],
   "source": [
    "class Main:\n",
    "    def user(): # this function collects user input and apply the class ImageProcessor() methods to invert the image \n",
    "        processor = ImageProcessor() \n",
    "        \n",
    "        input_path = input(\"Enter your image here: \") \n",
    "        output_path = input(\"Enter image output file path here: \")\n",
    "        \n",
    "        processor.read_image(input_path)\n",
    "        \n",
    "        if processor.image is not None:\n",
    "            processor.invert_colors()\n",
    "            \n",
    "            processor.save_image(output_path)"
   ]
  },
  {
   "cell_type": "code",
   "execution_count": 22,
   "id": "4715222d",
   "metadata": {},
   "outputs": [
    {
     "name": "stdout",
     "output_type": "stream",
     "text": [
      "Enter your image here: C:\\Users\\hp\\Pictures\\download (2).png\n",
      "Enter image output file path here: download.png\n"
     ]
    }
   ],
   "source": [
    "Main.user()"
   ]
  },
  {
   "cell_type": "code",
   "execution_count": null,
   "id": "aa44352c",
   "metadata": {},
   "outputs": [],
   "source": []
  }
 ],
 "metadata": {
  "kernelspec": {
   "display_name": "Python 3 (ipykernel)",
   "language": "python",
   "name": "python3"
  },
  "language_info": {
   "codemirror_mode": {
    "name": "ipython",
    "version": 3
   },
   "file_extension": ".py",
   "mimetype": "text/x-python",
   "name": "python",
   "nbconvert_exporter": "python",
   "pygments_lexer": "ipython3",
   "version": "3.10.9"
  }
 },
 "nbformat": 4,
 "nbformat_minor": 5
}
